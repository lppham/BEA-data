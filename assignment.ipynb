{
 "cells": [
  {
   "cell_type": "code",
   "execution_count": 46,
   "metadata": {
    "collapsed": false
   },
   "outputs": [],
   "source": [
    "import pandas as pd\n",
    "import numpy as np\n",
    "\n",
    "# Naming the columns for easier reference later on\n",
    "use_cols = [\"commodity\", \"industry\", \"year\", \"trn\", \n",
    "            \"producer_rev\", \"transportation\", \"railroad\", \"truck\", \n",
    "            \"water\", \"air\", \"oilpipe\", \"gaspipe\", \n",
    "            \"wholesale\", \"retail\", \"purchaser\"]\n",
    "use = pd.read_csv(\"ndn0307/IOUseDetail.txt\", header=None, names=use_cols)\n",
    "\n",
    "# All commodities and industries have a space at the end, probably for multiple industries or commodities but in this\n",
    "# case, they are all singular so the space can be removed\n",
    "use[\"industry\"] = use[\"industry\"].apply(lambda x: x[:-1])\n",
    "use[\"commodity\"] = use[\"commodity\"].apply(lambda x: x[:-1])"
   ]
  },
  {
   "cell_type": "code",
   "execution_count": 47,
   "metadata": {
    "collapsed": false
   },
   "outputs": [],
   "source": [
    "make_cols = [\"industry\", \"commodity\", \"trn\", \"final_value\"]\n",
    "make = pd.read_csv(\"ndn0307/IOMakeDetail.txt\", header=None, names=make_cols)\n"
   ]
  },
  {
   "cell_type": "code",
   "execution_count": 48,
   "metadata": {
    "collapsed": false
   },
   "outputs": [],
   "source": [
    "commodities = make.groupby([\"commodity\"])\n",
    "commodity_totals = commodities.sum()"
   ]
  },
  {
   "cell_type": "code",
   "execution_count": 49,
   "metadata": {
    "collapsed": false
   },
   "outputs": [],
   "source": [
    "list_commodities = make[\"commodity\"].unique()\n",
    "list_industries = make[\"industry\"].unique()"
   ]
  },
  {
   "cell_type": "code",
   "execution_count": 50,
   "metadata": {
    "collapsed": false
   },
   "outputs": [],
   "source": [
    "c_len = len(list_commodities)\n",
    "i_len = len(list_industries)\n",
    "make_neat = pd.DataFrame(np.zeros((i_len,c_len)), columns= list_commodities, index = list_industries)\n",
    "\n",
    "for name, commod in commodities:\n",
    "    for _, industry in commod.iterrows():\n",
    "        make_neat.set_value(industry[\"industry\"], name, industry[\"final_value\"])\n",
    "\n",
    "\n",
    "share = make_neat.div(commodity_totals[\"final_value\"], axis = \"columns\")"
   ]
  },
  {
   "cell_type": "code",
   "execution_count": 51,
   "metadata": {
    "collapsed": false
   },
   "outputs": [],
   "source": [
    "# Now Computing Revshare\n",
    "# I have assumed we only use producer_rev since the costs of the other fields, 6-14, do not appear to go to the producer\n",
    "# Also, I have assumed that commodities are the same throughout put not necessarily industries\n",
    "# i.e. There are finites amount of kinds of natural resources but there are many differentiated industries\n",
    "\n",
    "list_industries_use = use[\"industry\"].unique()\n",
    "\n",
    "use = use[use[\"commodity\"].isin(list_commodities)] # Only look at commodities that are in both make and use\n",
    "i_len_use = len(list_industries_use)\n",
    "\n",
    "commod_use = use.groupby([\"commodity\"])\n",
    "\n",
    "# Handily enough, matrix multiplication (share x use_neat) will give use revshare\n",
    "# This is assuming that the commodities of use and make are bijective\n",
    "use_neat = pd.DataFrame(np.zeros((c_len, i_len_use)),\n",
    "                        index = list_commodities,\n",
    "                        columns = list_industries_use)\n",
    "\n",
    "for name, commod in commod_use:\n",
    "    for _, industry in commod.iterrows():\n",
    "        use_neat.set_value(name, industry[\"industry\"], industry[\"producer_rev\"])\n",
    "\n",
    "revshare = share.dot(use_neat)"
   ]
  },
  {
   "cell_type": "code",
   "execution_count": 52,
   "metadata": {
    "collapsed": false
   },
   "outputs": [],
   "source": [
    "# Now on CUST\n",
    "sales = make.groupby([\"industry\"]).sum()[\"final_value\"]\n",
    "purchases = use.groupby([\"industry\"]).sum()[\"producer_rev\"]\n",
    "\n",
    "\n",
    "# Cust is defined as the total cash flows from j to i (revshares) as a fraction of total sales of i (sales)\n",
    "cust = revshare.div(sales, axis='rows')\n",
    "\n",
    "# Supp is defined as the cost share of input to i as a fraaction of output j\n",
    "supp = revshare.div(purchases)"
   ]
  },
  {
   "cell_type": "code",
   "execution_count": null,
   "metadata": {
    "collapsed": false
   },
   "outputs": [],
   "source": []
  },
  {
   "cell_type": "code",
   "execution_count": null,
   "metadata": {
    "collapsed": true
   },
   "outputs": [],
   "source": []
  }
 ],
 "metadata": {
  "kernelspec": {
   "display_name": "Python 2",
   "language": "python",
   "name": "python2"
  },
  "language_info": {
   "codemirror_mode": {
    "name": "ipython",
    "version": 2
   },
   "file_extension": ".py",
   "mimetype": "text/x-python",
   "name": "python",
   "nbconvert_exporter": "python",
   "pygments_lexer": "ipython2",
   "version": "2.7.12"
  }
 },
 "nbformat": 4,
 "nbformat_minor": 1
}
